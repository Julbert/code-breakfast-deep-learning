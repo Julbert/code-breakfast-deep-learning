{
 "cells": [
  {
   "cell_type": "code",
   "execution_count": null,
   "metadata": {
    "slideshow": {
     "slide_type": "skip"
    }
   },
   "outputs": [],
   "source": [
    "%%HTML\n",
    "<link rel=\"stylesheet\" type=\"text/css\" href=\"//fonts.googleapis.com/css?family=Quicksand:300\" />"
   ]
  },
  {
   "cell_type": "code",
   "execution_count": null,
   "metadata": {
    "collapsed": true,
    "slideshow": {
     "slide_type": "skip"
    }
   },
   "outputs": [],
   "source": [
    "import os\n",
    "\n",
    "from notebook.services.config import ConfigManager\n",
    "\n",
    "os.environ['JUPYTER_CONFIG_DIR'] = '.jupyter'\n",
    "\n",
    "cm = ConfigManager()\n",
    "cm.update('livereveal', {\n",
    "    'scroll': True,\n",
    "    'start_slideshow_at': 'selected'\n",
    "})\n",
    "\n",
    "from exercises import utils  # Thanks Python 3!"
   ]
  },
  {
   "cell_type": "markdown",
   "metadata": {
    "slideshow": {
     "slide_type": "slide"
    }
   },
   "source": [
    "# Deep Learning\n",
    "\n",
    "\n",
    "Code breakfast with Rodrigo and Henk\n",
    "\n",
    "![footer_logo](images/logo.png)"
   ]
  },
  {
   "cell_type": "markdown",
   "metadata": {
    "slideshow": {
     "slide_type": "slide"
    }
   },
   "source": [
    "# Deep Learning - Code Breakfast\n",
    "\n",
    "### Goals\n",
    "- Introduction to Deep Learning\n",
    "- Hands-on experience\n",
    "\n",
    "### Logistics\n",
    "\n",
    "- Timing: 9.00 - 12.00\n",
    "- Lunch at 12.00\n",
    "- Bathrooms on the left (from the entrance)\n",
    "\n",
    "![footer_logo](images/logo.png)"
   ]
  },
  {
   "cell_type": "markdown",
   "metadata": {
    "slideshow": {
     "slide_type": "slide"
    }
   },
   "source": [
    "# GoDataDriven\n",
    "\n",
    "\n",
    "### Who are we?\n",
    "- 10 Data engineers\n",
    "- 15 Data Scientist\n",
    "\n",
    "### What do we do?\n",
    "- Data plataforms\n",
    "- Deep learning\n",
    "- Predictive modelling\n",
    "\n",
    "![footer_logo](images/logo.png)"
   ]
  },
  {
   "cell_type": "markdown",
   "metadata": {
    "slideshow": {
     "slide_type": "slide"
    }
   },
   "source": [
    "# Schedule\n",
    "\n",
    "|           \t|                      \t|        \t|\n",
    "|-----------\t|----------------------\t|--------\t|\n",
    "| 9.30      \t| Introduction         \t|       \t|\n",
    "| 9.40      \t| Deep learning basics \t|Theory   \t|\n",
    "| 10.00     \t| Natural Language Processing with NNs       |Theory    \t|\n",
    "| 10.15     \t| Feed forward neural networks      \t|Lab       \t|\n",
    "| 10.45     \t| Coffee + small talk               \t|        \t|\n",
    "| 11.00     \t| Feed forward neural networks<br>or<br>Recurrent neural networks       \t|Lab   \t|\n",
    "| 12.00     \t| Lunch                  \t|        \t|\n",
    "\n",
    "![footer_logo](images/logo.png)"
   ]
  },
  {
   "cell_type": "markdown",
   "metadata": {
    "slideshow": {
     "slide_type": "slide"
    }
   },
   "source": [
    "# Your trainers\n",
    "\n",
    "![rodrigo left_center_quarter](images/rodrigo.jpg)\n",
    "![rodrigo right_center_quarter](images/henk.jpg)\n",
    "\n",
    "- Rodrigo Agundez - Data Maverick\n",
    "- Henk Griffioen - Data Scientist\n",
    "\n",
    "![footer_logo](images/logo.png)"
   ]
  },
  {
   "cell_type": "markdown",
   "metadata": {
    "slideshow": {
     "slide_type": "slide"
    }
   },
   "source": [
    "# Deep Learning over the years\n",
    "\n",
    "![three_quarters center](images/dl_timeline.jpg)\n",
    "\n",
    "![footer_logo](images/logo.png)"
   ]
  },
  {
   "cell_type": "markdown",
   "metadata": {
    "slideshow": {
     "slide_type": "slide"
    }
   },
   "source": [
    "# Deep Learning Pioneers\n",
    "\n",
    "![center](images/dl_people.jpeg)\n",
    "<p style=\"text-align:center\">\n",
    "Yann LeCun - Geoffrey Hinton - Yoshua Bengio - Andrew Ng\n",
    "</p>\n",
    "\n",
    "<sub>\"You have to realize that deep learning... is really a conspiracy between Geoff Hinton and myself and Yoshua Bengio...\"\n",
    "**Yann LeCun** <sub>\n",
    "\n",
    "![footer_logo](images/logo.png)"
   ]
  },
  {
   "cell_type": "markdown",
   "metadata": {
    "slideshow": {
     "slide_type": "slide"
    }
   },
   "source": [
    "# Recommended literature\n",
    "\n",
    "![center quarter](images/dl_book.jpg)\n",
    "\n",
    "![footer_logo](images/logo.png)"
   ]
  },
  {
   "cell_type": "markdown",
   "metadata": {
    "slideshow": {
     "slide_type": "slide"
    }
   },
   "source": [
    "# Recommended training\n"
   ]
  },
  {
   "cell_type": "markdown",
   "metadata": {
    "slideshow": {
     "slide_type": "fragment"
    }
   },
   "source": [
    "![center quarter](images/logo.png)\n",
    "<p style=\"text-align:center\">\n",
    "Deep Learning - 3 Days\n",
    "</p>\n",
    "\n",
    "|           \t|                      \t| \n",
    "|-----------\t|----------------------\t|\n",
    "| May      \t| 23-25         \t| \n",
    "| November      \t| 21-23 \t|\n",
    "\n",
    "- training@xebia.com\n",
    "- thomasdeboer@godatadriven.com\n",
    "- https://godatadriven.com/training-overview"
   ]
  },
  {
   "cell_type": "markdown",
   "metadata": {
    "slideshow": {
     "slide_type": "subslide"
    }
   },
   "source": [
    "# Deep neural network\n",
    "\n",
    "\n",
    "![left half](images/neurons.jpg)\n",
    "![right half](images/dnn.png)\n",
    "\n",
    "&nbsp;\n",
    "<br><br>\n",
    "<sub>*[medium.com/@xenonstack](https://medium.com/@xenonstack/log-analytics-with-deep-learning-and-machine-learning-20a1891ff70e)*<sub/>\n",
    "![footer_logo](images/logo.png)"
   ]
  },
  {
   "cell_type": "markdown",
   "metadata": {
    "slideshow": {
     "slide_type": "subslide"
    }
   },
   "source": [
    "# Neuron description\n",
    "\n",
    "![neuron_comparison center half](images/neuron_comparison.png)\n",
    "\n",
    "Frist artificial neuron proposed in 1943!\n",
    "\n",
    "\n",
    "<sub>*https://appliedgo.net/perceptron*</sub>\n",
    "![footer_logo](images/logo.png)"
   ]
  },
  {
   "cell_type": "markdown",
   "metadata": {
    "slideshow": {
     "slide_type": "subslide"
    }
   },
   "source": [
    "# DNN - Components\n",
    "\n",
    "![dnn center half](images/dnn_labels.png)\n",
    "\n",
    "<sub>*[medium.com/@xenonstack](https://medium.com/@xenonstack/log-analytics-with-deep-learning-and-machine-learning-20a1891ff70e)*<sub/>\n",
    "![footer_logo](images/logo.png)"
   ]
  },
  {
   "cell_type": "markdown",
   "metadata": {
    "slideshow": {
     "slide_type": "subslide"
    }
   },
   "source": [
    "# Artificial neuron\n",
    "\n",
    "![artificial_neuron center](images/artificial_neuron.jpg)\n",
    "\n",
    "<sub>New Proposal?</sub>\n",
    "\n",
    "<sub>\"Physicists negate century-old assumption regarding neurons and brain activity\"<br>[Scientific Reports 7, Article number: 18036 (2017)](https://www.nature.com/articles/s41598-017-18363-1)</sub>\n",
    "\n",
    "![footer_logo](images/logo.png)"
   ]
  },
  {
   "cell_type": "markdown",
   "metadata": {
    "slideshow": {
     "slide_type": "subslide"
    }
   },
   "source": [
    "\n",
    "# Layers\n",
    "\n",
    "Hierarchical feature representations\n",
    "\n",
    "![layers center](images/layers.jpg)\n",
    "\n",
    "<sub>*[leonardoaraujosantos.gitbooks.io](https://leonardoaraujosantos.gitbooks.io/artificial-inteligence/content/neural_networks.html)*</sub>\n",
    "![footer_logo](images/logo.png)"
   ]
  },
  {
   "cell_type": "markdown",
   "metadata": {
    "slideshow": {
     "slide_type": "subslide"
    }
   },
   "source": [
    "![neural_networks_collection](images/neural_networks_collection.png)\n",
    "\n",
    "<sub>*[leonardoaraujosantos.gitbooks.io](https://leonardoaraujosantos.gitbooks.io/artificial-inteligence/content/neural_networks.html)*</sub>\n",
    "![footer_logo](images/logo.png)"
   ]
  },
  {
   "cell_type": "markdown",
   "metadata": {
    "slideshow": {
     "slide_type": "subslide"
    }
   },
   "source": [
    "# Optimization by backpropagation\n",
    "\n",
    "1. Cost function\n",
    "2. Gradient descent\n",
    " 1. Stochastic gradient descent (SGD)\n",
    " 2. SGD + momentum\n",
    " 3. SGD + Nesterov\n",
    " 4. AdaGrad\n",
    " 5. RMSProp\n",
    " 6. Adam\n",
    "\n",
    "<sub>*http://ruder.io/optimizing-gradient-descent/*</sub>\n",
    "![footer_logo](images/logo.png)"
   ]
  },
  {
   "cell_type": "markdown",
   "metadata": {
    "slideshow": {
     "slide_type": "slide"
    }
   },
   "source": [
    "# Optimizers\n",
    "\n",
    "![optimizers_1 left half](images/optimizers_1.gif)\n",
    "![optimizers_2 right half](images/optimizers_2.gif)\n",
    "\n",
    " <sub>*http://www.denizyuret.com/2015/03/alec-radfords-animations-for.html*</sub>\n",
    " <sub>*([Alec Radford](https://twitter.com/alecrad))*<sub/>\n",
    "![footer_logo](images/logo.png)"
   ]
  },
  {
   "cell_type": "markdown",
   "metadata": {
    "slideshow": {
     "slide_type": "slide"
    }
   },
   "source": [
    "# Tooling\n",
    "\n",
    "![tensorflow center](images/tensorflow.png)\n",
    "![keras left half](images/keras.png)\n",
    "![pytorch right half](images/pytorch.jpeg)"
   ]
  },
  {
   "cell_type": "markdown",
   "metadata": {
    "slideshow": {
     "slide_type": "skip"
    }
   },
   "source": [
    "[Release of Tensorflow 1.4](https://developers.googleblog.com/2017/11/announcing-tensorflow-r14.html)"
   ]
  },
  {
   "cell_type": "markdown",
   "metadata": {
    "slideshow": {
     "slide_type": "slide"
    }
   },
   "source": [
    "# Natural Language Processing\n",
    "\n",
    "## With Neural Networks\n",
    "\n",
    "- Part 1 - NNs and sequences\n",
    "- Part 2 - NNs and text\n",
    "\n",
    "![footer_logo](images/logo.png)"
   ]
  },
  {
   "cell_type": "markdown",
   "metadata": {
    "slideshow": {
     "slide_type": "slide"
    }
   },
   "source": [
    "# Part 1 - NNs and Sequences\n",
    "\n",
    "![footer_logo](images/logo.png)"
   ]
  },
  {
   "cell_type": "markdown",
   "metadata": {
    "slideshow": {
     "slide_type": "subslide"
    }
   },
   "source": [
    "# Example: Language translation\n",
    "\n",
    "<img src=\"images/google-translate.png\" style=\"width: 75%; display: block; margin-left: auto !important; margin-right: auto !important;\" align=\"center\"/>  \n",
    "  \n",
    "![footer_logo](images/logo.png)"
   ]
  },
  {
   "cell_type": "markdown",
   "metadata": {
    "slideshow": {
     "slide_type": "subslide"
    }
   },
   "source": [
    "# Example: Image captions\n",
    "\n",
    "\n",
    "<img src=\"images/image-captioning.png\" style=\"width: 50%; display: block; margin-left: auto !important; margin-right: auto !important;\" align=\"center\"/>  \n",
    "\n",
    "\n",
    "![footer_logo](images/logo.png)"
   ]
  },
  {
   "cell_type": "markdown",
   "metadata": {
    "slideshow": {
     "slide_type": "subslide"
    }
   },
   "source": [
    "# Example: Sentiment analysis\n",
    "\n",
    "\n",
    "<img src=\"exercises/images/sentiment-neuron.gif\" style=\"width: 80%; display: block; margin-left: auto !important; margin-right: auto !important;\" align=\"center\"/>  \n",
    "\n",
    "> Source: [Unsupervised Sentiment Neuron](https://blog.openai.com/unsupervised-sentiment-neuron/)\n",
    "    \n",
    "![footer_logo](images/logo.png)"
   ]
  },
  {
   "cell_type": "markdown",
   "metadata": {
    "slideshow": {
     "slide_type": "subslide"
    }
   },
   "source": [
    "# Order in sequences\n",
    "\n",
    "### The order of a sequence holds information\n",
    "\n",
    "> proudly part of Xebia Groups\n",
    "\n",
    "vs\n",
    "\n",
    "> Groups part of Xebia proudly\n",
    "\n",
    "![footer_logo](images/logo.png)"
   ]
  },
  {
   "cell_type": "markdown",
   "metadata": {
    "slideshow": {
     "slide_type": "subslide"
    }
   },
   "source": [
    "# Feed-forward 💔 sequences\n",
    "\n",
    "We need a different kind of unit!\n",
    "\n",
    "<img src=\"images/feedforward-sequence.png\" style=\"width: 25%; display: block; margin-left: auto !important; margin-right: auto !important;\" align=\"center\"/>  \n",
    "\n",
    "![footer_logo](images/logo.png)"
   ]
  },
  {
   "cell_type": "markdown",
   "metadata": {
    "slideshow": {
     "slide_type": "subslide"
    }
   },
   "source": [
    "# Recurrent ❤️ sequences\n",
    "\n",
    "Internal loop feeds back the previous state \n",
    "\n",
    "<img src=\"exercises/images/rnn-architecture.png\" style=\"width: 80%; display: block; margin-left: auto !important; margin-right: auto !important;\" align=\"center\"/>  \n",
    "\n",
    "![footer_logo](images/logo.png)"
   ]
  },
  {
   "cell_type": "markdown",
   "metadata": {
    "slideshow": {
     "slide_type": "subslide"
    }
   },
   "source": [
    "# Example: Sentiment analysis\n",
    "\n",
    "\n",
    "<img src=\"exercises/images/sentiment-neuron.gif\" style=\"width: 80%; display: block; margin-left: auto !important; margin-right: auto !important;\" align=\"center\"/>  \n",
    "> Source: [Unsupervised Sentiment Neuron](https://blog.openai.com/unsupervised-sentiment-neuron/)\n",
    "    \n",
    "![footer_logo](images/logo.png)"
   ]
  },
  {
   "cell_type": "markdown",
   "metadata": {
    "slideshow": {
     "slide_type": "subslide"
    }
   },
   "source": [
    "# Mathematics"
   ]
  },
  {
   "cell_type": "markdown",
   "metadata": {
    "slideshow": {
     "slide_type": "fragment"
    }
   },
   "source": [
    "### Feed forward\n",
    "\n",
    "<img src=\"images/formula-feedforward.png\" style=\"height: 50px; display: block; margin-left: auto !important; margin-right: auto !important;\" align=\"center\"/>"
   ]
  },
  {
   "cell_type": "markdown",
   "metadata": {
    "slideshow": {
     "slide_type": "fragment"
    }
   },
   "source": [
    "### Recurrent\n",
    "\n",
    "<img src=\"images/formula-recurrent.png\" style=\"height: 56px; display: block; margin-left: auto !important; margin-right: auto !important;\" align=\"center\"/>  "
   ]
  },
  {
   "cell_type": "markdown",
   "metadata": {
    "slideshow": {
     "slide_type": "slide"
    }
   },
   "source": [
    "# Part 2 - NNs and text\n",
    "\n",
    "![footer_logo](images/logo.png)"
   ]
  },
  {
   "cell_type": "markdown",
   "metadata": {
    "slideshow": {
     "slide_type": "subslide"
    }
   },
   "source": [
    "# One-hot encoding\n",
    "\n",
    "- Traditional style of encoding\n",
    "- Represents words as a big vectors with zeros and ones.\n",
    "\n",
    "![footer_logo](images/logo.png)"
   ]
  },
  {
   "cell_type": "markdown",
   "metadata": {
    "slideshow": {
     "slide_type": "subslide"
    }
   },
   "source": [
    "# Example vocabulary"
   ]
  },
  {
   "cell_type": "code",
   "execution_count": null,
   "metadata": {
    "slideshow": {
     "slide_type": "-"
    }
   },
   "outputs": [],
   "source": [
    "utils.one_hot_encoding()"
   ]
  },
  {
   "cell_type": "markdown",
   "metadata": {
    "slideshow": {
     "slide_type": "-"
    }
   },
   "source": [
    "![footer_logo](images/logo.png)"
   ]
  },
  {
   "cell_type": "markdown",
   "metadata": {
    "slideshow": {
     "slide_type": "subslide"
    }
   },
   "source": [
    "# Example documents"
   ]
  },
  {
   "cell_type": "code",
   "execution_count": null,
   "metadata": {},
   "outputs": [],
   "source": [
    "utils.one_hot_document()"
   ]
  },
  {
   "cell_type": "markdown",
   "metadata": {
    "slideshow": {
     "slide_type": "-"
    }
   },
   "source": [
    "![footer_logo](images/logo.png)"
   ]
  },
  {
   "cell_type": "markdown",
   "metadata": {
    "slideshow": {
     "slide_type": "subslide"
    }
   },
   "source": [
    "# Disadvantages\n",
    "\n",
    "- Big and sparse vector space\n",
    "- Too many features to learn from\n",
    "- Not enough samples to understand every feature\n",
    "- Treating words as atomic units throws away a lot of information\n",
    "- Doesn't capture relations between words\n",
    "\n",
    "![footer_logo](images/logo.png)"
   ]
  },
  {
   "cell_type": "markdown",
   "metadata": {
    "slideshow": {
     "slide_type": "subslide"
    }
   },
   "source": [
    "# A better representation\n",
    "\n",
    "Smaller and dense vector space\n",
    "\n",
    "![footer_logo](images/logo.png)"
   ]
  },
  {
   "cell_type": "markdown",
   "metadata": {
    "slideshow": {
     "slide_type": "subslide"
    }
   },
   "source": [
    "# Example vocabulary\n",
    "\n",
    "utils.embedding_encoding()\n",
    "\n",
    "![footer_logo](images/logo.png)"
   ]
  },
  {
   "cell_type": "markdown",
   "metadata": {
    "slideshow": {
     "slide_type": "subslide"
    }
   },
   "source": [
    "# Example documents\n",
    "\n",
    "utils.embedding_document()\n",
    "\n",
    "![footer_logo](images/logo.png)"
   ]
  },
  {
   "cell_type": "markdown",
   "metadata": {
    "slideshow": {
     "slide_type": "subslide"
    }
   },
   "source": [
    "# Advantages\n",
    "\n",
    "- Less features to learn from\n",
    "- Points in space close to each other are similar\n",
    "- Relations captured in dimensions\n",
    "\n",
    "![footer_logo](images/logo.png)"
   ]
  },
  {
   "cell_type": "markdown",
   "metadata": {
    "slideshow": {
     "slide_type": "subslide"
    }
   },
   "source": [
    "# Embeddings layer\n",
    "\n",
    "- Dense layer that maps one-hot vectors to smaller space\n",
    "- Relations ~ distances\n",
    "- Directions ~ semantic relationships\n",
    "\n",
    "<img src=\"exercises/images/linear-relationships.png\" style=\"width: 50%; display: block; margin-left: auto !important; margin-right: auto !important;\" align=\"center\"/>  \n",
    "\n",
    "![footer_logo](images/logo.png)"
   ]
  },
  {
   "cell_type": "markdown",
   "metadata": {
    "slideshow": {
     "slide_type": "slide"
    }
   },
   "source": [
    "# Summary\n",
    "\n",
    "* Sequences ask for different types of neurons\n",
    "* Embeddings represent text efficiently\n",
    "\n",
    "![footer_logo](images/logo.png)"
   ]
  }
 ],
 "metadata": {
  "celltoolbar": "Slideshow",
  "kernelspec": {
   "display_name": "Python [conda env:code-breakfast]",
   "language": "python",
   "name": "conda-env-code-breakfast-py"
  },
  "language_info": {
   "codemirror_mode": {
    "name": "ipython",
    "version": 3
   },
   "file_extension": ".py",
   "mimetype": "text/x-python",
   "name": "python",
   "nbconvert_exporter": "python",
   "pygments_lexer": "ipython3",
   "version": "3.6.4"
  }
 },
 "nbformat": 4,
 "nbformat_minor": 2
}
